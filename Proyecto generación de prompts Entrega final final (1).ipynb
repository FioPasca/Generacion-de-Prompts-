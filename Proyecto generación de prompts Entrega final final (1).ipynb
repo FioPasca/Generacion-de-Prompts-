{
 "cells": [
  {
   "cell_type": "code",
   "execution_count": 1,
   "id": "1adc09f5-5661-48cb-94b5-e2734dd5e2e4",
   "metadata": {},
   "outputs": [],
   "source": [
    "# Importaciones necesarias al inicio\n",
    "from google import genai\n",
    "from google.genai import types\n",
    "from PIL import Image\n",
    "from io import BytesIO\n",
    "import base64\n",
    "import pandas as pd\n",
    "\n",
    "# --- DataFrame para guardar las ideas de diseño ---\n",
    "# Se inicializa una única vez al inicio del script\n",
    "ideas_diseño_df = pd.DataFrame(columns=[\n",
    "    \"espacio\", \"estilo\", \"colores\", \"iluminacion\", \"elementos\",\n",
    "    \"prompt_textual\", \"propuesta_ambientacion\", \"prompt_imagen_generado\",\n",
    "    \"tipo_generacion\" # Puedes usar esto para indicar si la generación fue \"IA\" o \"Manual\"\n",
    "])\n",
    "\n",
    "# --- Función para guardar en el DataFrame ---\n",
    "def guardar_idea_diseño(espacio, estilo, colores, iluminacion, elementos,\n",
    "                        prompt_textual, propuesta_ambientacion, prompt_imagen_generado,\n",
    "                        tipo_generacion=\"IA\"): # Valor por defecto \"IA\"\n",
    "    global ideas_diseño_df # Accedemos al DataFrame global\n",
    "    nueva_fila = {\n",
    "        \"espacio\": espacio,\n",
    "        \"estilo\": estilo,\n",
    "        \"colores\": colores,\n",
    "        \"iluminacion\": iluminacion,\n",
    "        \"elementos\": elementos,\n",
    "        \"prompt_textual\": prompt_textual,\n",
    "        \"propuesta_ambientacion\": propuesta_ambientacion,\n",
    "        \"prompt_imagen_generado\": prompt_imagen_generado,\n",
    "        \"tipo_generacion\": tipo_generacion\n",
    "    }\n",
    "    ideas_diseño_df = pd.concat([ideas_diseño_df, pd.DataFrame([nueva_fila])], ignore_index=True)\n",
    "    print(\"✅ Idea de diseño guardada correctamente en el DataFrame.\")"
   ]
  },
  {
   "cell_type": "code",
   "execution_count": 2,
   "id": "7016f941-8971-401c-8d3e-f23dac79c4eb",
   "metadata": {},
   "outputs": [],
   "source": [
    "# --- Paso 1: Inputs del usuario ---\n",
    "espacio = \"living\"\n",
    "estilo = \"boho chic\"\n",
    "colores = \"off white, marrones y fibras naturales\"\n",
    "iluminacion = \"luz natural\"\n",
    "elementos = \"plantas, muebles de madera clara, alfombra tejida\""
   ]
  },
  {
   "cell_type": "code",
   "execution_count": 3,
   "id": "b236f402-b094-45bf-9299-79be1b1df17c",
   "metadata": {},
   "outputs": [
    {
     "name": "stdout",
     "output_type": "stream",
     "text": [
      "🔹 Prompt para generar descripción de ambientación:\n",
      "\n",
      "Sugiéreme una propuesta de ambientación para un living de tamaño pequeño con estilo boho chic.\n",
      "Debe incluir colores como off white, marrones y fibras naturales, con luz natural y elementos como plantas, muebles de madera clara, alfombra tejida.\n",
      "\n"
     ]
    }
   ],
   "source": [
    "# --- Paso 2: Generación del prompt para la descripción textual ---\n",
    "prompt_textual = f\"\"\"\n",
    "Sugiéreme una propuesta de ambientación para un {espacio} de tamaño pequeño con estilo {estilo}.\n",
    "Debe incluir colores como {colores}, con {iluminacion} y elementos como {elementos}.\n",
    "\"\"\"\n",
    "print(\"🔹 Prompt para generar descripción de ambientación:\")\n",
    "print(prompt_textual)\n"
   ]
  },
  {
   "cell_type": "code",
   "execution_count": 4,
   "id": "9e1e1dd1-39af-48dd-9158-6e301baecb3e",
   "metadata": {},
   "outputs": [
    {
     "name": "stdout",
     "output_type": "stream",
     "text": [
      "\n",
      "--- Propuesta de Ambientación ---\n",
      "## Ambientación Boho Chic para Living Pequeño: \"Luz y Armonía\"\n",
      "\n",
      "Esta propuesta busca maximizar la sensación de espacio y luz en un living pequeño, manteniendo la esencia boho chic a través de la combinación de texturas, colores y elementos naturales.\n",
      "\n",
      "**Paleta de Colores:**  Base de off-white en paredes para ampliar visualmente el espacio.  Marrón en tonos cálidos (chocolate, miel, café con leche) en los muebles de madera y algunos textiles,  contrapuestos con el blanco roto y fibras naturales.\n",
      "\n",
      "**Iluminación:**  La luz natural es clave.  Mantén las ventanas despejadas, quizás con cortinas de lino blanco o crudo semitransparentes que filtren la luz sin oscurecer el espacio.  Complementa con iluminación cálida y tenue:\n",
      "\n",
      "* **Lámpara de techo:**  Una pieza de fibras naturales (ratán, mimbre) de tamaño moderado para no sobrecargar el espacio.\n",
      "* **Lámparas de mesa:**  Dos lámparas pequeñas de madera clara con pantallas de tela en tonos beige o marrón claro, colocadas en puntos estratégicos.\n",
      "* **Guirnaldas de luces:**  Una guirnalda de luces LED cálidas en algún rincón para crear un ambiente acogedor por la noche.\n",
      "\n",
      "\n",
      "**Muebles:**\n",
      "\n",
      "* **Sofá:** Un sofá de dos plazas o un sillón de diseño sencillo y líneas limpias en color beige claro o un tejido de algodón natural.\n",
      "* **Mesa de centro:** Una mesa baja de madera clara (pino, roble) con una bandeja de mimbre o ratán encima para apoyar objetos decorativos.\n",
      "* **Banco o puff:** Un puff bajo de fibras naturales o un banco de madera con almohadones en tonos marrones y beige para añadir asientos adicionales y textura.\n",
      "* **Estantería:** Una estantería pequeña de madera clara, en vertical y de poca profundidad para evitar sensación de agobio, ideal para colocar libros, plantas y objetos decorativos.\n",
      "\n",
      "**Textiles y Decoración:**\n",
      "\n",
      "* **Alfombra:** Una alfombra tejida a mano en tonos beige y marrón claro, de tamaño moderado para no reducir el espacio.\n",
      "* **Cojines:** Almohadones de diferentes texturas y tamaños en tonos tierra, beige, blanco roto y con detalles bordados o flecos.  Incluir algunos con estampados étnicos sutiles.\n",
      "* **Plantas:** Varias plantas de interior en macetas de cerámica o fibra natural.  Selecciona plantas de tamaño mediano y pequeño para evitar que ocupen demasiado espacio. Considera plantas colgantes para aprovechar las alturas.\n",
      "* **Objetos decorativos:**  Cestas de mimbre, espejos redondos con marcos de madera, maceteros de cerámica artesanal, figuras de madera, velas en tonos tierra.  Mantén la decoración minimalista, eligiendo pocos elementos pero con impacto.\n",
      "* **Arte en la pared:** Una o dos piezas de arte con tonos neutros o con motivos naturales,  de tamaño moderado.\n",
      "\n",
      "\n",
      "**Materiales:** Predominio de la madera clara (pino, roble), fibras naturales (ratán, mimbre, yute, algodón), cerámica,  metales oscuros (negro mate o bronce).\n",
      "\n",
      "**Consejos adicionales:**\n",
      "\n",
      "* **Espacio vertical:** Aprovecha las paredes para colocar estantes flotantes o espejos, ampliando visualmente el espacio.\n",
      "* **Minimalismo:**  Evita la acumulación de objetos.  Selecciona cuidadosamente cada pieza para que sea funcional y decorativa.\n",
      "* **Organización:** Mantén el orden para evitar la sensación de agobio en un espacio reducido.\n",
      "\n",
      "\n",
      "Esta propuesta busca crear un ambiente sereno, acogedor y con mucha personalidad en un espacio pequeño, aprovechando al máximo la luz natural y los materiales naturales propios del estilo boho chic. Recuerda adaptar esta propuesta a tu gusto personal y a las características específicas de tu living.\n",
      "\n"
     ]
    }
   ],
   "source": [
    "# --- Paso 3: Conexión a Gemini (Google Generative AI) y generación de texto ---\n",
    "\n",
    "# Clave de API\n",
    "# Por seguridad, es recomendable NO dejar la API KEY directamente en el código\n",
    "# Considera usar variables de entorno (ej. os.environ.get(\"GOOGLE_API_KEY\"))\n",
    "API_KEY = \"TU APY KEY\"\n",
    "\n",
    "# 1. Crear un cliente con la clave de API\n",
    "client = genai.Client(api_key=API_KEY)\n",
    "\n",
    "# 2. Generar la descripción textual de la ambientación\n",
    "# Aquí 'text_response_gemini' contiene la respuesta completa, incluyendo el texto\n",
    "text_response_gemini = client.models.generate_content(\n",
    "    model=\"gemini-1.5-flash\",\n",
    "    contents=prompt_textual\n",
    ")\n",
    "\n",
    "# Guardamos el texto generado para usarlo después\n",
    "propuesta_ambientacion_completa = \"\\n--- Propuesta de Ambientación ---\\n\" + text_response_gemini.text\n",
    "print(propuesta_ambientacion_completa)"
   ]
  },
  {
   "cell_type": "code",
   "execution_count": 5,
   "id": "cd44200f-3a84-4e01-8af9-b5ed68ee6f4b",
   "metadata": {},
   "outputs": [
    {
     "name": "stdout",
     "output_type": "stream",
     "text": [
      "\n",
      "--- Prompt optimizado para la imagen ---\n",
      "Living pequeño estilo boho chic luminoso. Paredes off-white, sofá beige claro, mesa de centro madera clara con bandeja de mimbre.  Alfombra tejida beige y marrón claro.  Iluminación cálida: lámpara de techo de ratán, lámparas de mesa madera clara con pantallas beige.  Cojines en tonos tierra con detalles étnicos. Plantas en macetas de cerámica y fibra natural.  Detalles en madera, mimbre y metal oscuro. Ambiente acogedor y minimalista, con  textura y armonía.\n"
     ]
    }
   ],
   "source": [
    "# --- Paso 4: Generar un prompt optimizado para la imagen ---\n",
    "# Pedimos a Gemini que extraiga las palabras clave visuales del texto extenso\n",
    "\n",
    "prompt_para_generar_imagen_optimizada = f\"\"\"\n",
    "Basado en la siguiente propuesta de Decoración, genera una descripción concisa y altamente visual (máximo 150 palabras) ideal para un modelo de generación de imágenes. Enfócate en los elementos clave, colores, estilo y ambiente.\n",
    "\n",
    "Propuesta de ambientación:\n",
    "{propuesta_ambientacion_completa}\n",
    "\n",
    "Descripción visual para imagen:\n",
    "\"\"\"\n",
    "\n",
    "image_prompt_response_gemini = client.models.generate_content(\n",
    "    model=\"gemini-1.5-flash\", # Usamos el mismo modelo de texto para esto\n",
    "    contents=prompt_para_generar_imagen_optimizada\n",
    ")\n",
    "\n",
    "#  prompt de imagen sea solo texto y conciso\n",
    "image_text_for_generation = image_prompt_response_gemini.text.strip()\n",
    "print(f\"\\n--- Prompt optimizado para la imagen ---\\n{image_text_for_generation}\")"
   ]
  },
  {
   "cell_type": "code",
   "execution_count": 6,
   "id": "969fb505-a3f6-45c2-a588-8df1014dacd3",
   "metadata": {},
   "outputs": [
    {
     "name": "stdout",
     "output_type": "stream",
     "text": [
      "✅ Idea de diseño guardada correctamente en el DataFrame.\n",
      "\n",
      "--- Contenido actual del DataFrame de ideas de diseño ---\n",
      "  espacio     estilo                                 colores  iluminacion  \\\n",
      "0  living  boho chic  off white, marrones y fibras naturales  luz natural   \n",
      "\n",
      "                                           elementos  \\\n",
      "0  plantas, muebles de madera clara, alfombra tejida   \n",
      "\n",
      "                                      prompt_textual  \\\n",
      "0  \\nSugiéreme una propuesta de ambientación para...   \n",
      "\n",
      "                              propuesta_ambientacion  \\\n",
      "0  \\n--- Propuesta de Ambientación ---\\n## Ambien...   \n",
      "\n",
      "                              prompt_imagen_generado tipo_generacion  \n",
      "0  Living pequeño estilo boho chic luminoso. Pare...              IA  \n",
      "-------------------------------------------------------\n"
     ]
    }
   ],
   "source": [
    "# ---- Paso 5 Guarda la información en el DataFrame AQUÍ ---\n",
    "guardar_idea_diseño(\n",
    "    espacio=espacio,\n",
    "    estilo=estilo,\n",
    "    colores=colores,\n",
    "    iluminacion=iluminacion,\n",
    "    elementos=elementos,\n",
    "    prompt_textual=prompt_textual,\n",
    "    propuesta_ambientacion=propuesta_ambientacion_completa,\n",
    "    prompt_imagen_generado=image_text_for_generation,\n",
    "    tipo_generacion=\"IA\" # Asumimos que esta generación es por IA\n",
    ")\n",
    "# --- Opcional: Imprime el DataFrame para verificar ---\n",
    "print(\"\\n--- Contenido actual del DataFrame de ideas de diseño ---\")\n",
    "print(ideas_diseño_df)\n",
    "print(\"-------------------------------------------------------\")\n"
   ]
  },
  {
   "cell_type": "code",
   "execution_count": 9,
   "id": "d13b6720-0106-4c21-a6d4-f124c7d254b3",
   "metadata": {},
   "outputs": [
    {
     "name": "stdout",
     "output_type": "stream",
     "text": [
      "Se generará una imagen de un salón pequeño de estilo boho chic muy luminoso. Las paredes serán de un blanco roto, contrastando suavemente con un sofá de un beige muy claro. En el centro, una mesa de centro de madera clara sostendrá una bandeja de mimbre. Bajo el sofá, una alfombra tejida en tonos beige y marrón claro aportará calidez. La iluminación será cálida, con una lámpara de techo de ratán como punto focal y lámparas de mesa con bases de madera clara y pantallas beige estratégicamente ubicadas. Varios cojines en tonos tierra, adornados con detalles étnicos, decorarán el sofá. Se incluirán plantas en macetas de cerámica y fibra natural, añadiendo un toque de frescura. Detalles decorativos en madera, mimbre y sutiles acentos de metal oscuro completarán la escena, creando un ambiente acogedor, minimalista, rico en texturas y armonía visual.\n",
      "\n"
     ]
    }
   ],
   "source": [
    "# --- Paso 6: Generar la imagen basada en el prompt optimizado ---\n",
    "\n",
    "# Usamos directamente la variable 'image_text_for_generation' que contiene el prompt visual.\n",
    "contents = (image_text_for_generation)\n",
    "\n",
    "response = client.models.generate_content(\n",
    "    model=\"gemini-2.0-flash-preview-image-generation\", # Asegúrate de que este modelo esté disponible para tu API Key y región\n",
    "    contents=contents,\n",
    "    config=types.GenerateContentConfig(\n",
    "        response_modalities=['TEXT', 'IMAGE']\n",
    "    )\n",
    ")\n",
    "\n",
    "for part in response.candidates[0].content.parts:\n",
    "    if part.text is not None:\n",
    "        print(part.text)\n",
    "    elif part.inline_data is not None:\n",
    "        image = Image.open(BytesIO((part.inline_data.data)))\n",
    "        image.save('gemini-native-image.png')\n",
    "        image.show()"
   ]
  },
  {
   "cell_type": "code",
   "execution_count": null,
   "id": "a1a1c6eb-1282-4d3c-bc89-f82fa2f18965",
   "metadata": {},
   "outputs": [],
   "source": []
  }
 ],
 "metadata": {
  "kernelspec": {
   "display_name": "Python 3 (ipykernel)",
   "language": "python",
   "name": "python3"
  },
  "language_info": {
   "codemirror_mode": {
    "name": "ipython",
    "version": 3
   },
   "file_extension": ".py",
   "mimetype": "text/x-python",
   "name": "python",
   "nbconvert_exporter": "python",
   "pygments_lexer": "ipython3",
   "version": "3.10.16"
  }
 },
 "nbformat": 4,
 "nbformat_minor": 5
}
